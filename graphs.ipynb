{
 "cells": [
  {
   "cell_type": "code",
   "execution_count": 1,
   "metadata": {},
   "outputs": [],
   "source": [
    "import pandas as pd\n",
    "import numpy as np\n",
    "import plotly.graph_objects as go\n",
    "\n",
    "df = pd.read_csv('dataset.csv')"
   ]
  },
  {
   "cell_type": "code",
   "execution_count": 2,
   "metadata": {},
   "outputs": [],
   "source": [
    "# Define the pairs of columns to plot\n",
    "columns_pairs = [\n",
    "    ('tri_usdt_oracle_new', 'tri_usdt_ref'),\n",
    "    ('tri_usdc_oracle_new', 'tri_usdc_ref'),\n",
    "    ('tri_llama_oracle_new', 'tri_llama_ref'),\n",
    "    ('tri_lsd_oracle_new', 'tri_lsd_ref'),\n",
    "    ('tri_crv_oracle_new', 'tri_crv_ref'),\n",
    "]"
   ]
  },
  {
   "cell_type": "code",
   "execution_count": 3,
   "metadata": {},
   "outputs": [],
   "source": [
    "# Loop over each pair and create two plots for each\n",
    "for oracle_col, ref_col in columns_pairs:\n",
    "    # Extract the currency code from the column name for titles\n",
    "    currency_code = oracle_col.split('_')[1]  # Extract the currency code from the column name\n",
    "    \n",
    "    # Graph 1: Oracle vs. Ref comparison\n",
    "    fig1 = go.Figure()\n",
    "    \n",
    "    # Adding the oracle data as markers\n",
    "    fig1.add_trace(\n",
    "        go.Scatter(x=df[ref_col], y=df[oracle_col], name=f'{oracle_col}', mode='markers')\n",
    "    )\n",
    "    \n",
    "    # Adding the perfect match line without displaying points\n",
    "    fig1.add_trace(\n",
    "        go.Scatter(x=df[ref_col], y=df[ref_col], name='Match', mode='lines')\n",
    "    )\n",
    "    \n",
    "    # Update layout for the first graph\n",
    "    fig1.update_layout(title=f'{currency_code.upper()} Oracle Performance Analysis', xaxis_title=ref_col, yaxis_title=oracle_col)\n",
    "    \n",
    "    # Save the figure\n",
    "    image_path1 = f'images/{currency_code.upper()}_Oracle_vs_Ref.png'\n",
    "    fig1.write_image(image_path1)\n",
    "    \n",
    "    # Graph 2: Oracle_new and Ref over Time\n",
    "    fig2 = go.Figure()\n",
    "    \n",
    "    # Adding the oracle_new data\n",
    "    fig2.add_trace(\n",
    "        go.Scatter(x=df['Timestamp'], y=df[oracle_col], name=f'{oracle_col}', mode='lines+markers')\n",
    "    )\n",
    "    \n",
    "    # Adding the ref data\n",
    "    fig2.add_trace(\n",
    "        go.Scatter(x=df['Timestamp'], y=df[ref_col], name=f'{ref_col}', mode='lines+markers')\n",
    "    )\n",
    "    \n",
    "    # Update layout for the second graph\n",
    "    fig2.update_layout(title=f'{currency_code.upper()} Oracle vs. Ref over Time', xaxis_title='Time', yaxis_title='Value')\n",
    "    \n",
    "    # Save the figure\n",
    "    image_path2 = f'images/{currency_code.upper()}_Oracle_vs_Ref_Over_Time.png'\n",
    "    fig2.write_image(image_path2)"
   ]
  },
  {
   "cell_type": "code",
   "execution_count": 5,
   "metadata": {},
   "outputs": [
    {
     "data": {
      "application/vnd.plotly.v1+json": {
       "config": {
        "plotlyServerURL": "https://plot.ly"
       },
       "data": [
        {
         "marker": {
          "color": "skyblue"
         },
         "name": "Mean Variance",
         "type": "bar",
         "x": [
          -0.30000000000000004,
          0.7,
          1.7,
          2.7,
          3.7
         ],
         "y": [
          -0.05470958581203317,
          -0.030339832660928493,
          -0.110732957180504,
          0.07281858799998116,
          -0.04367014911775768
         ]
        },
        {
         "marker": {
          "color": "lightgreen"
         },
         "name": "Median Variance",
         "type": "bar",
         "x": [
          -0.1,
          0.9,
          1.9,
          2.9,
          3.9
         ],
         "y": [
          -0.05633176416243278,
          -0.029671152091752955,
          -0.10457348500112867,
          0.065338443137448,
          -0.04930441403855704
         ]
        },
        {
         "marker": {
          "color": "orange"
         },
         "name": "95th Percentile Variance",
         "type": "bar",
         "x": [
          0.1,
          1.1,
          2.1,
          3.1,
          4.1
         ],
         "y": [
          0.38957034662431483,
          0.1675319102225275,
          0.3464081564889158,
          0.41928681871372087,
          0.32352284582675844
         ]
        },
        {
         "marker": {
          "color": "salmon"
         },
         "name": "99th Percentile Variance",
         "type": "bar",
         "x": [
          0.30000000000000004,
          1.3,
          2.3,
          3.3,
          4.3
         ],
         "y": [
          0.6307027569887443,
          0.3199885464875909,
          0.6037130720983886,
          0.632758161208066,
          0.6492667807814851
         ]
        }
       ],
       "layout": {
        "barmode": "group",
        "template": {
         "data": {
          "bar": [
           {
            "error_x": {
             "color": "#2a3f5f"
            },
            "error_y": {
             "color": "#2a3f5f"
            },
            "marker": {
             "line": {
              "color": "#E5ECF6",
              "width": 0.5
             },
             "pattern": {
              "fillmode": "overlay",
              "size": 10,
              "solidity": 0.2
             }
            },
            "type": "bar"
           }
          ],
          "barpolar": [
           {
            "marker": {
             "line": {
              "color": "#E5ECF6",
              "width": 0.5
             },
             "pattern": {
              "fillmode": "overlay",
              "size": 10,
              "solidity": 0.2
             }
            },
            "type": "barpolar"
           }
          ],
          "carpet": [
           {
            "aaxis": {
             "endlinecolor": "#2a3f5f",
             "gridcolor": "white",
             "linecolor": "white",
             "minorgridcolor": "white",
             "startlinecolor": "#2a3f5f"
            },
            "baxis": {
             "endlinecolor": "#2a3f5f",
             "gridcolor": "white",
             "linecolor": "white",
             "minorgridcolor": "white",
             "startlinecolor": "#2a3f5f"
            },
            "type": "carpet"
           }
          ],
          "choropleth": [
           {
            "colorbar": {
             "outlinewidth": 0,
             "ticks": ""
            },
            "type": "choropleth"
           }
          ],
          "contour": [
           {
            "colorbar": {
             "outlinewidth": 0,
             "ticks": ""
            },
            "colorscale": [
             [
              0,
              "#0d0887"
             ],
             [
              0.1111111111111111,
              "#46039f"
             ],
             [
              0.2222222222222222,
              "#7201a8"
             ],
             [
              0.3333333333333333,
              "#9c179e"
             ],
             [
              0.4444444444444444,
              "#bd3786"
             ],
             [
              0.5555555555555556,
              "#d8576b"
             ],
             [
              0.6666666666666666,
              "#ed7953"
             ],
             [
              0.7777777777777778,
              "#fb9f3a"
             ],
             [
              0.8888888888888888,
              "#fdca26"
             ],
             [
              1,
              "#f0f921"
             ]
            ],
            "type": "contour"
           }
          ],
          "contourcarpet": [
           {
            "colorbar": {
             "outlinewidth": 0,
             "ticks": ""
            },
            "type": "contourcarpet"
           }
          ],
          "heatmap": [
           {
            "colorbar": {
             "outlinewidth": 0,
             "ticks": ""
            },
            "colorscale": [
             [
              0,
              "#0d0887"
             ],
             [
              0.1111111111111111,
              "#46039f"
             ],
             [
              0.2222222222222222,
              "#7201a8"
             ],
             [
              0.3333333333333333,
              "#9c179e"
             ],
             [
              0.4444444444444444,
              "#bd3786"
             ],
             [
              0.5555555555555556,
              "#d8576b"
             ],
             [
              0.6666666666666666,
              "#ed7953"
             ],
             [
              0.7777777777777778,
              "#fb9f3a"
             ],
             [
              0.8888888888888888,
              "#fdca26"
             ],
             [
              1,
              "#f0f921"
             ]
            ],
            "type": "heatmap"
           }
          ],
          "heatmapgl": [
           {
            "colorbar": {
             "outlinewidth": 0,
             "ticks": ""
            },
            "colorscale": [
             [
              0,
              "#0d0887"
             ],
             [
              0.1111111111111111,
              "#46039f"
             ],
             [
              0.2222222222222222,
              "#7201a8"
             ],
             [
              0.3333333333333333,
              "#9c179e"
             ],
             [
              0.4444444444444444,
              "#bd3786"
             ],
             [
              0.5555555555555556,
              "#d8576b"
             ],
             [
              0.6666666666666666,
              "#ed7953"
             ],
             [
              0.7777777777777778,
              "#fb9f3a"
             ],
             [
              0.8888888888888888,
              "#fdca26"
             ],
             [
              1,
              "#f0f921"
             ]
            ],
            "type": "heatmapgl"
           }
          ],
          "histogram": [
           {
            "marker": {
             "pattern": {
              "fillmode": "overlay",
              "size": 10,
              "solidity": 0.2
             }
            },
            "type": "histogram"
           }
          ],
          "histogram2d": [
           {
            "colorbar": {
             "outlinewidth": 0,
             "ticks": ""
            },
            "colorscale": [
             [
              0,
              "#0d0887"
             ],
             [
              0.1111111111111111,
              "#46039f"
             ],
             [
              0.2222222222222222,
              "#7201a8"
             ],
             [
              0.3333333333333333,
              "#9c179e"
             ],
             [
              0.4444444444444444,
              "#bd3786"
             ],
             [
              0.5555555555555556,
              "#d8576b"
             ],
             [
              0.6666666666666666,
              "#ed7953"
             ],
             [
              0.7777777777777778,
              "#fb9f3a"
             ],
             [
              0.8888888888888888,
              "#fdca26"
             ],
             [
              1,
              "#f0f921"
             ]
            ],
            "type": "histogram2d"
           }
          ],
          "histogram2dcontour": [
           {
            "colorbar": {
             "outlinewidth": 0,
             "ticks": ""
            },
            "colorscale": [
             [
              0,
              "#0d0887"
             ],
             [
              0.1111111111111111,
              "#46039f"
             ],
             [
              0.2222222222222222,
              "#7201a8"
             ],
             [
              0.3333333333333333,
              "#9c179e"
             ],
             [
              0.4444444444444444,
              "#bd3786"
             ],
             [
              0.5555555555555556,
              "#d8576b"
             ],
             [
              0.6666666666666666,
              "#ed7953"
             ],
             [
              0.7777777777777778,
              "#fb9f3a"
             ],
             [
              0.8888888888888888,
              "#fdca26"
             ],
             [
              1,
              "#f0f921"
             ]
            ],
            "type": "histogram2dcontour"
           }
          ],
          "mesh3d": [
           {
            "colorbar": {
             "outlinewidth": 0,
             "ticks": ""
            },
            "type": "mesh3d"
           }
          ],
          "parcoords": [
           {
            "line": {
             "colorbar": {
              "outlinewidth": 0,
              "ticks": ""
             }
            },
            "type": "parcoords"
           }
          ],
          "pie": [
           {
            "automargin": true,
            "type": "pie"
           }
          ],
          "scatter": [
           {
            "fillpattern": {
             "fillmode": "overlay",
             "size": 10,
             "solidity": 0.2
            },
            "type": "scatter"
           }
          ],
          "scatter3d": [
           {
            "line": {
             "colorbar": {
              "outlinewidth": 0,
              "ticks": ""
             }
            },
            "marker": {
             "colorbar": {
              "outlinewidth": 0,
              "ticks": ""
             }
            },
            "type": "scatter3d"
           }
          ],
          "scattercarpet": [
           {
            "marker": {
             "colorbar": {
              "outlinewidth": 0,
              "ticks": ""
             }
            },
            "type": "scattercarpet"
           }
          ],
          "scattergeo": [
           {
            "marker": {
             "colorbar": {
              "outlinewidth": 0,
              "ticks": ""
             }
            },
            "type": "scattergeo"
           }
          ],
          "scattergl": [
           {
            "marker": {
             "colorbar": {
              "outlinewidth": 0,
              "ticks": ""
             }
            },
            "type": "scattergl"
           }
          ],
          "scattermapbox": [
           {
            "marker": {
             "colorbar": {
              "outlinewidth": 0,
              "ticks": ""
             }
            },
            "type": "scattermapbox"
           }
          ],
          "scatterpolar": [
           {
            "marker": {
             "colorbar": {
              "outlinewidth": 0,
              "ticks": ""
             }
            },
            "type": "scatterpolar"
           }
          ],
          "scatterpolargl": [
           {
            "marker": {
             "colorbar": {
              "outlinewidth": 0,
              "ticks": ""
             }
            },
            "type": "scatterpolargl"
           }
          ],
          "scatterternary": [
           {
            "marker": {
             "colorbar": {
              "outlinewidth": 0,
              "ticks": ""
             }
            },
            "type": "scatterternary"
           }
          ],
          "surface": [
           {
            "colorbar": {
             "outlinewidth": 0,
             "ticks": ""
            },
            "colorscale": [
             [
              0,
              "#0d0887"
             ],
             [
              0.1111111111111111,
              "#46039f"
             ],
             [
              0.2222222222222222,
              "#7201a8"
             ],
             [
              0.3333333333333333,
              "#9c179e"
             ],
             [
              0.4444444444444444,
              "#bd3786"
             ],
             [
              0.5555555555555556,
              "#d8576b"
             ],
             [
              0.6666666666666666,
              "#ed7953"
             ],
             [
              0.7777777777777778,
              "#fb9f3a"
             ],
             [
              0.8888888888888888,
              "#fdca26"
             ],
             [
              1,
              "#f0f921"
             ]
            ],
            "type": "surface"
           }
          ],
          "table": [
           {
            "cells": {
             "fill": {
              "color": "#EBF0F8"
             },
             "line": {
              "color": "white"
             }
            },
            "header": {
             "fill": {
              "color": "#C8D4E3"
             },
             "line": {
              "color": "white"
             }
            },
            "type": "table"
           }
          ]
         },
         "layout": {
          "annotationdefaults": {
           "arrowcolor": "#2a3f5f",
           "arrowhead": 0,
           "arrowwidth": 1
          },
          "autotypenumbers": "strict",
          "coloraxis": {
           "colorbar": {
            "outlinewidth": 0,
            "ticks": ""
           }
          },
          "colorscale": {
           "diverging": [
            [
             0,
             "#8e0152"
            ],
            [
             0.1,
             "#c51b7d"
            ],
            [
             0.2,
             "#de77ae"
            ],
            [
             0.3,
             "#f1b6da"
            ],
            [
             0.4,
             "#fde0ef"
            ],
            [
             0.5,
             "#f7f7f7"
            ],
            [
             0.6,
             "#e6f5d0"
            ],
            [
             0.7,
             "#b8e186"
            ],
            [
             0.8,
             "#7fbc41"
            ],
            [
             0.9,
             "#4d9221"
            ],
            [
             1,
             "#276419"
            ]
           ],
           "sequential": [
            [
             0,
             "#0d0887"
            ],
            [
             0.1111111111111111,
             "#46039f"
            ],
            [
             0.2222222222222222,
             "#7201a8"
            ],
            [
             0.3333333333333333,
             "#9c179e"
            ],
            [
             0.4444444444444444,
             "#bd3786"
            ],
            [
             0.5555555555555556,
             "#d8576b"
            ],
            [
             0.6666666666666666,
             "#ed7953"
            ],
            [
             0.7777777777777778,
             "#fb9f3a"
            ],
            [
             0.8888888888888888,
             "#fdca26"
            ],
            [
             1,
             "#f0f921"
            ]
           ],
           "sequentialminus": [
            [
             0,
             "#0d0887"
            ],
            [
             0.1111111111111111,
             "#46039f"
            ],
            [
             0.2222222222222222,
             "#7201a8"
            ],
            [
             0.3333333333333333,
             "#9c179e"
            ],
            [
             0.4444444444444444,
             "#bd3786"
            ],
            [
             0.5555555555555556,
             "#d8576b"
            ],
            [
             0.6666666666666666,
             "#ed7953"
            ],
            [
             0.7777777777777778,
             "#fb9f3a"
            ],
            [
             0.8888888888888888,
             "#fdca26"
            ],
            [
             1,
             "#f0f921"
            ]
           ]
          },
          "colorway": [
           "#636efa",
           "#EF553B",
           "#00cc96",
           "#ab63fa",
           "#FFA15A",
           "#19d3f3",
           "#FF6692",
           "#B6E880",
           "#FF97FF",
           "#FECB52"
          ],
          "font": {
           "color": "#2a3f5f"
          },
          "geo": {
           "bgcolor": "white",
           "lakecolor": "white",
           "landcolor": "#E5ECF6",
           "showlakes": true,
           "showland": true,
           "subunitcolor": "white"
          },
          "hoverlabel": {
           "align": "left"
          },
          "hovermode": "closest",
          "mapbox": {
           "style": "light"
          },
          "paper_bgcolor": "white",
          "plot_bgcolor": "#E5ECF6",
          "polar": {
           "angularaxis": {
            "gridcolor": "white",
            "linecolor": "white",
            "ticks": ""
           },
           "bgcolor": "#E5ECF6",
           "radialaxis": {
            "gridcolor": "white",
            "linecolor": "white",
            "ticks": ""
           }
          },
          "scene": {
           "xaxis": {
            "backgroundcolor": "#E5ECF6",
            "gridcolor": "white",
            "gridwidth": 2,
            "linecolor": "white",
            "showbackground": true,
            "ticks": "",
            "zerolinecolor": "white"
           },
           "yaxis": {
            "backgroundcolor": "#E5ECF6",
            "gridcolor": "white",
            "gridwidth": 2,
            "linecolor": "white",
            "showbackground": true,
            "ticks": "",
            "zerolinecolor": "white"
           },
           "zaxis": {
            "backgroundcolor": "#E5ECF6",
            "gridcolor": "white",
            "gridwidth": 2,
            "linecolor": "white",
            "showbackground": true,
            "ticks": "",
            "zerolinecolor": "white"
           }
          },
          "shapedefaults": {
           "line": {
            "color": "#2a3f5f"
           }
          },
          "ternary": {
           "aaxis": {
            "gridcolor": "white",
            "linecolor": "white",
            "ticks": ""
           },
           "baxis": {
            "gridcolor": "white",
            "linecolor": "white",
            "ticks": ""
           },
           "bgcolor": "#E5ECF6",
           "caxis": {
            "gridcolor": "white",
            "linecolor": "white",
            "ticks": ""
           }
          },
          "title": {
           "x": 0.05
          },
          "xaxis": {
           "automargin": true,
           "gridcolor": "white",
           "linecolor": "white",
           "ticks": "",
           "title": {
            "standoff": 15
           },
           "zerolinecolor": "white",
           "zerolinewidth": 2
          },
          "yaxis": {
           "automargin": true,
           "gridcolor": "white",
           "linecolor": "white",
           "ticks": "",
           "title": {
            "standoff": 15
           },
           "zerolinecolor": "white",
           "zerolinewidth": 2
          }
         }
        },
        "title": {
         "text": "Mean, Median, 95th, and 99th Percentile Variance for Each Pair"
        },
        "xaxis": {
         "tickmode": "array",
         "ticktext": [
          "TRI-USDT",
          "TRI-USDC",
          "TRI-LLAMA",
          "TRI-LSD",
          "TRI-CRV"
         ],
         "tickvals": [
          0,
          1,
          2,
          3,
          4
         ],
         "title": {
          "text": "Currency Pair"
         }
        },
        "yaxis": {
         "title": {
          "text": "Variance (%)"
         }
        }
       }
      }
     },
     "metadata": {},
     "output_type": "display_data"
    }
   ],
   "source": [
    "# Prepare data for plotting\n",
    "currency_codes = []\n",
    "mean_variances = []\n",
    "median_variances = []\n",
    "percentile_95_variances = []\n",
    "percentile_99_variances = []\n",
    "\n",
    "for oracle_col, ref_col in columns_pairs:\n",
    "    # Calculate variance in percent\n",
    "    df['variance_percent'] = ((df[oracle_col] - df[ref_col]) / df[ref_col]) * 100\n",
    "    \n",
    "    # Calculate statistics\n",
    "    mean_variance_percent = df['variance_percent'].mean()\n",
    "    median_variance_percent = df['variance_percent'].median()\n",
    "    percentile_95_variance_percent = df['variance_percent'].quantile(0.95)\n",
    "    percentile_99_variance_percent = df['variance_percent'].quantile(0.99)\n",
    "    \n",
    "    # Extract the currency code\n",
    "    currency_code = oracle_col.split('_')[0] + \"-\" + oracle_col.split('_')[1]\n",
    "    currency_codes.append(currency_code.upper())\n",
    "    mean_variances.append(mean_variance_percent)\n",
    "    median_variances.append(median_variance_percent)\n",
    "    percentile_95_variances.append(percentile_95_variance_percent)\n",
    "    percentile_99_variances.append(percentile_99_variance_percent)\n",
    "\n",
    "# Create a Plotly figure\n",
    "fig = go.Figure()\n",
    "\n",
    "# Define the positions of the bars\n",
    "index = np.arange(len(columns_pairs))\n",
    "bar_width = 0.2\n",
    "\n",
    "# Adding bars for each statistic\n",
    "fig.add_trace(go.Bar(x=[x - 1.5*bar_width for x in index], y=mean_variances, name='Mean Variance', marker_color='skyblue'))\n",
    "fig.add_trace(go.Bar(x=[x - 0.5*bar_width for x in index], y=median_variances, name='Median Variance', marker_color='lightgreen'))\n",
    "fig.add_trace(go.Bar(x=[x + 0.5*bar_width for x in index], y=percentile_95_variances, name='95th Percentile Variance', marker_color='orange'))\n",
    "fig.add_trace(go.Bar(x=[x + 1.5*bar_width for x in index], y=percentile_99_variances, name='99th Percentile Variance', marker_color='salmon'))\n",
    "\n",
    "# Update the layout\n",
    "fig.update_layout(\n",
    "    title='Mean, Median, 95th, and 99th Percentile Variance for Each Pair',\n",
    "    xaxis=dict(title='Currency Pair', tickmode='array', tickvals=index, ticktext=currency_codes),\n",
    "    yaxis=dict(title='Variance (%)'),\n",
    "    barmode='group'\n",
    ")\n",
    "\n",
    "fig.show()\n",
    "fig.write_image('images/stats.png')"
   ]
  },
  {
   "cell_type": "code",
   "execution_count": null,
   "metadata": {},
   "outputs": [],
   "source": []
  }
 ],
 "metadata": {
  "kernelspec": {
   "display_name": ".venv",
   "language": "python",
   "name": "python3"
  },
  "language_info": {
   "codemirror_mode": {
    "name": "ipython",
    "version": 3
   },
   "file_extension": ".py",
   "mimetype": "text/x-python",
   "name": "python",
   "nbconvert_exporter": "python",
   "pygments_lexer": "ipython3",
   "version": "3.11.7"
  }
 },
 "nbformat": 4,
 "nbformat_minor": 2
}
